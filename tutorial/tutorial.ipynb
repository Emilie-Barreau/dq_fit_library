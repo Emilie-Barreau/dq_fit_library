{
 "cells": [
  {
   "cell_type": "code",
   "execution_count": 2,
   "metadata": {},
   "outputs": [],
   "source": [
    "from traceback import print_tb\n",
    "import yaml\n",
    "import json\n",
    "import sys\n",
    "import argparse\n",
    "from array import array\n",
    "import os\n",
    "from os import path\n",
    "import ROOT\n",
    "from ROOT import TFile, TF1, TH1F, TTree\n",
    "from ROOT import gRandom\n",
    "sys.path.append('../')\n",
    "from DQFitter import DQFitter"
   ]
  },
  {
   "cell_type": "code",
   "execution_count": null,
   "metadata": {},
   "outputs": [],
   "source": [
    "print(\"----------- GENERATE TUTORIAL SAMPLE -----------\")\n",
    "nEvents = 100000\n",
    "SigOverBkg1 = 0.03\n",
    "SigOverBkg2 = SigOverBkg1 / 10.\n",
    "    \n",
    "fOut = TFile(\"tutorial.root\", \"RECREATE\")\n",
    "\n",
    "funcMassBkg = TF1(\"funcMassBkg\", \"expo\", 0., 5.)\n",
    "funcMassBkg.SetParameter(0, 0.00)\n",
    "funcMassBkg.SetParameter(1, -0.5)\n",
    "\n",
    "funcMassSig1 = TF1(\"funcMassSig1\", \"gaus\", 0., 5.)\n",
    "funcMassSig1.SetParameter(0, 1.0)\n",
    "funcMassSig1.SetParameter(1, 3.096)\n",
    "funcMassSig1.SetParameter(2, 0.070)\n",
    "\n",
    "funcMassSig2 = TF1(\"funcMassSig2\", \"gaus\", 0., 5.)\n",
    "funcMassSig2.SetParameter(0, 1.0)\n",
    "funcMassSig2.SetParameter(1, 3.686)\n",
    "funcMassSig2.SetParameter(2, 1.05 * 0.070)\n",
    "\n",
    "histMass = TH1F(\"histMass\", \"histMass\", 100, 0., 5.)\n",
    "histMass.FillRandom(\"funcMassBkg\", int(nEvents - (nEvents * SigOverBkg1)))\n",
    "histMass.FillRandom(\"funcMassSig1\", int(nEvents * SigOverBkg1))\n",
    "histMass.FillRandom(\"funcMassSig2\", int(nEvents * SigOverBkg2))\n",
    "histMass.Write()\n",
    "\n",
    "print(\"Data histogram\")\n",
    "print(\"counter J/psi = %f\" % (int(nEvents * SigOverBkg1)))\n",
    "print(\"counter Psi(2S) = %f\" % (int(nEvents * SigOverBkg2)))\n",
    "\n",
    "counterSig1 = 0\n",
    "counterSig2 = 0\n",
    "\n",
    "m = array('f', [0.])\n",
    "tree = TTree(\"data\", \"data\")\n",
    "tree.Branch(\"m\", m, \"m/F\")\n",
    "\n",
    "for iEvent in range(0, nEvents):\n",
    "    seed = gRandom.Rndm()\n",
    "    if seed > SigOverBkg1:\n",
    "        m[0] = funcMassBkg.GetRandom()\n",
    "    else:\n",
    "        if seed > SigOverBkg2:\n",
    "            m[0] = funcMassSig1.GetRandom()\n",
    "            counterSig1 = counterSig1 + 1\n",
    "        else:\n",
    "            m[0] = funcMassSig2.GetRandom()\n",
    "            counterSig2 = counterSig2 + 1\n",
    "    tree.Fill()\n",
    "tree.Write()\n",
    "\n",
    "fOut.Close()\n",
    "\n",
    "print(\"Data tree\")\n",
    "print(\"counter J/psi = %f\" % (counterSig1))\n",
    "print(\"counter Psi(2S) = %f\" % (counterSig2))"
   ]
  },
  {
   "cell_type": "code",
   "execution_count": null,
   "metadata": {},
   "outputs": [],
   "source": [
    "print('Loading task configuration: ...', end='\\r')\n",
    "with open(\"configFit.json\", 'r') as jsonCfgFile:\n",
    "    inputCfg = json.load(jsonCfgFile)\n",
    "print('Loading task configuration: Done!')"
   ]
  },
  {
   "cell_type": "code",
   "execution_count": null,
   "metadata": {},
   "outputs": [],
   "source": [
    "if not path.isdir(inputCfg[\"output\"][\"output_file_name\"]):\n",
    "    os.system(\"mkdir -p %s\" % (inputCfg[\"output\"][\"output_file_name\"]))\n",
    "for histName in inputCfg[\"input\"][\"input_name\"]:\n",
    "    dqFitter = DQFitter(inputCfg[\"input\"][\"input_file_name\"], histName, inputCfg[\"output\"][\"output_file_name\"], 2, 5)\n",
    "    dqFitter.SetFitConfig(inputCfg[\"input\"][\"pdf_dictionary\"])\n",
    "    dqFitter.MultiTrial()"
   ]
  }
 ],
 "metadata": {
  "kernelspec": {
   "display_name": "Python 3",
   "language": "python",
   "name": "python3"
  },
  "language_info": {
   "codemirror_mode": {
    "name": "ipython",
    "version": 3
   },
   "file_extension": ".py",
   "mimetype": "text/x-python",
   "name": "python",
   "nbconvert_exporter": "python",
   "pygments_lexer": "ipython3",
   "version": "3.11.2"
  },
  "orig_nbformat": 4
 },
 "nbformat": 4,
 "nbformat_minor": 2
}
